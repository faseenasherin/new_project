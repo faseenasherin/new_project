{
 "cells": [
  {
   "cell_type": "markdown",
   "id": "d2328cad",
   "metadata": {},
   "source": [
    "# Python Basics Assignment"
   ]
  },
  {
   "cell_type": "markdown",
   "id": "cb537954",
   "metadata": {},
   "source": [
    "### Question 1\n",
    "Write a function to compute number of vowels in a string given as input"
   ]
  },
  {
   "cell_type": "code",
   "execution_count": null,
   "id": "cf213ba2",
   "metadata": {},
   "outputs": [
    {
     "name": "stdout",
     "output_type": "stream",
     "text": [
      "hello,welcome\n",
      "no: of vowels 5\n"
     ]
    }
   ],
   "source": [
    "\n",
    "# Your code here\n",
    "v={\"a\",\"e\",\"i\",\"o\",\"u\",\"A\",\"E\",\"I\",\"O\",\"U\"}\n",
    "a=input(\"enter a string :\")\n",
    "print(a)\n",
    "def your_function_1():\n",
    "    pass\n",
    "    count = 0\n",
    "    for char in a:\n",
    "        if char in v:\n",
    "            count+=1\n",
    "    return count\n",
    "vowel_len=your_function_1()\n",
    "print(\"no of vowels\",vowel_len)\n",
    "\n",
    "\n"
   ]
  },
  {
   "cell_type": "markdown",
   "id": "4eaff430",
   "metadata": {},
   "source": [
    "### Question 2\n",
    "Write a function that checks whether a number is prime."
   ]
  },
  {
   "cell_type": "code",
   "execution_count": 8,
   "id": "81934cf7",
   "metadata": {},
   "outputs": [
    {
     "name": "stdout",
     "output_type": "stream",
     "text": [
      "17\n",
      "the given nmbr is prime nmbr\n"
     ]
    }
   ],
   "source": [
    "# Your code here\n",
    "a=int(input(\"enter the number\"))\n",
    "print(a)\n",
    "def your_function_2(n):\n",
    "    pass\n",
    "    if n<=1:\n",
    "        return False\n",
    "    for i in range(2,n):\n",
    "        if n%i==0:\n",
    "            return False\n",
    "    return True\n",
    "if your_function_2(a):\n",
    "    print(\"the given nmbr is prime nmbr\")\n",
    "else:\n",
    "     print(\"the given nmbr is not prime nmbr\")      \n"
   ]
  },
  {
   "cell_type": "markdown",
   "id": "5f061e50",
   "metadata": {},
   "source": [
    "### Question 3\n",
    "Write a function to return the maximum of two numbers."
   ]
  },
  {
   "cell_type": "code",
   "execution_count": 3,
   "id": "44e2a596",
   "metadata": {},
   "outputs": [
    {
     "name": "stdout",
     "output_type": "stream",
     "text": [
      "num1:  7\n",
      "num2:  4\n",
      "a is max\n"
     ]
    }
   ],
   "source": [
    "# Your code here\n",
    "a=int(input(\"enter first nmbr\"))\n",
    "b=int(input(\"enter second nmbr\"))\n",
    "print(\"num1: \",a)\n",
    "print(\"num2: \",b)\n",
    "def your_function_3():\n",
    "    if a>b:\n",
    "        print (\"a is max\")\n",
    "    else:\n",
    "        print(\"b is max\")    \n",
    "your_function_3()        "
   ]
  },
  {
   "cell_type": "markdown",
   "id": "7513ca91",
   "metadata": {},
   "source": [
    "### Question 4\n",
    "Write a function to return the factorial of a number."
   ]
  },
  {
   "cell_type": "code",
   "execution_count": 7,
   "id": "6617842f",
   "metadata": {},
   "outputs": [
    {
     "name": "stdout",
     "output_type": "stream",
     "text": [
      "Factorial of the number is: 5040\n"
     ]
    }
   ],
   "source": [
    "# Your code here\n",
    "def factorial(n):\n",
    "    if n==0 or n==1:\n",
    "        return 1\n",
    "    else:\n",
    "        return n*factorial(n-1)\n",
    "print(\"Factorial of the number is:\",factorial(7))      \n"
   ]
  },
  {
   "cell_type": "markdown",
   "id": "9b942098",
   "metadata": {},
   "source": [
    "### Question 5\n",
    "Write a function to reverse a string without string indexing."
   ]
  },
  {
   "cell_type": "code",
   "execution_count": 11,
   "id": "d606b194",
   "metadata": {},
   "outputs": [
    {
     "name": "stdout",
     "output_type": "stream",
     "text": [
      "Reversed string is: aneesaf\n"
     ]
    }
   ],
   "source": [
    "# Your code here\n",
    "def your_function_5():\n",
    "    n=input(\"Enter a string: \")\n",
    "    rev=reversed(n)\n",
    "    rev=list(rev)\n",
    "    print(\"Reversed string is:\",''.join( rev))\n",
    "your_function_5()"
   ]
  },
  {
   "cell_type": "markdown",
   "id": "1abd915b",
   "metadata": {},
   "source": [
    "### Question 6\n",
    "Write a function to check if a string is a palindrome."
   ]
  },
  {
   "cell_type": "code",
   "execution_count": 2,
   "id": "2b868fb3",
   "metadata": {},
   "outputs": [
    {
     "name": "stdout",
     "output_type": "stream",
     "text": [
      "malayalam is palindrome\n"
     ]
    }
   ],
   "source": [
    "# Your code here\n",
    "a=input(\"enter a string: \")\n",
    "def your_function_6():\n",
    "    return a==a[::-1]\n",
    "if your_function_6():\n",
    "   print(a,\"is palindrome\")\n",
    "else:\n",
    "     print(a,\"is not palindrome\")  \n"
   ]
  },
  {
   "cell_type": "markdown",
   "id": "5f2f3791",
   "metadata": {},
   "source": [
    "### Question 7\n",
    "Write a function to count vowels in a string."
   ]
  },
  {
   "cell_type": "code",
   "execution_count": null,
   "id": "73fefa50",
   "metadata": {},
   "outputs": [
    {
     "name": "stdout",
     "output_type": "stream",
     "text": [
      "hi,how are you\n",
      "no: of vowels 6\n"
     ]
    }
   ],
   "source": [
    "# Your code here\n",
    "v={\"a\",\"e\",\"i\",\"o\",\"u\",\"A\",\"E\",\"I\",\"O\",\"U\"}\n",
    "a=input(\"enter a string :\")\n",
    "print(a)\n",
    "def your_function_7():\n",
    "    pass\n",
    "    count = 0\n",
    "    for char in a:\n",
    "        if char in v:\n",
    "            count+=1\n",
    "    return count\n",
    "vowel_len=your_function_7()\n",
    "print(\"no of vowels\",vowel_len)"
   ]
  },
  {
   "cell_type": "markdown",
   "id": "0d3a9996",
   "metadata": {},
   "source": [
    "### Question 8\n",
    "Write a function that returns the sum of a list."
   ]
  },
  {
   "cell_type": "code",
   "execution_count": 13,
   "id": "ab6afc66",
   "metadata": {},
   "outputs": [
    {
     "data": {
      "text/plain": [
       "17"
      ]
     },
     "execution_count": 13,
     "metadata": {},
     "output_type": "execute_result"
    }
   ],
   "source": [
    "# Your code here\n",
    "a=[1,2,3,4,7]\n",
    "def your_function_8(a):\n",
    "    sum=0\n",
    "    for i in a:\n",
    "        sum=sum+i\n",
    "    return sum\n",
    "your_function_8(a)   "
   ]
  },
  {
   "cell_type": "markdown",
   "id": "f6682500",
   "metadata": {},
   "source": [
    "### Question 9\n",
    "Write a function to find the smallest number in a list."
   ]
  },
  {
   "cell_type": "code",
   "execution_count": null,
   "id": "6798a641",
   "metadata": {},
   "outputs": [
    {
     "name": "stdout",
     "output_type": "stream",
     "text": [
      "-1 smallest\n"
     ]
    }
   ],
   "source": [
    "# Your code here\n",
    "a=[1,-1,2,3,4]\n",
    "def your_function_9(a):\n",
    "    b=min(a )\n",
    "    print(b,\"is smallest\")\n",
    "your_function_9(a)    "
   ]
  },
  {
   "cell_type": "markdown",
   "id": "fb11e683",
   "metadata": {},
   "source": [
    "### Question 10\n",
    "Write a function to remove duplicates from a list."
   ]
  },
  {
   "cell_type": "code",
   "execution_count": 3,
   "id": "7c53f88c",
   "metadata": {},
   "outputs": [
    {
     "name": "stdout",
     "output_type": "stream",
     "text": [
      "{1, 2, 3, 4, 5}\n"
     ]
    }
   ],
   "source": [
    "# Your code here\n",
    "a=[1,2,3,2,4,5]\n",
    "def your_function_10():\n",
    "    b=set(a)\n",
    "    print(b)\n",
    "your_function_10()    "
   ]
  },
  {
   "cell_type": "markdown",
   "id": "9c380a5c",
   "metadata": {},
   "source": [
    "### Question 11\n",
    "Write a function to sort a list in ascending order without using builtin sort function"
   ]
  },
  {
   "cell_type": "code",
   "execution_count": 8,
   "id": "8e43832f",
   "metadata": {},
   "outputs": [
    {
     "name": "stdout",
     "output_type": "stream",
     "text": [
      "Sorted list is: [1, 2, 3, 4, 5, 6, 7]\n"
     ]
    }
   ],
   "source": [
    "# Your code here\n",
    "a=[2,4,1,3,7,6,5]\n",
    "def your_function_11(a):\n",
    "    for i in range(len(a)):\n",
    "        for j in range(i + 1, len(a)):\n",
    "            if a[i] > a[j]:\n",
    "                a[i], a[j] = a[j], a[i]\n",
    "    print(\"Sorted list is:\",a)\n",
    "your_function_11(a)"
   ]
  },
  {
   "cell_type": "markdown",
   "id": "1270c91c",
   "metadata": {},
   "source": [
    "### Question 12\n",
    "Write a function that returns the length of a string."
   ]
  },
  {
   "cell_type": "code",
   "execution_count": 5,
   "id": "87f35472",
   "metadata": {},
   "outputs": [
    {
     "name": "stdout",
     "output_type": "stream",
     "text": [
      "malayalam\n",
      "len of the string:  9\n"
     ]
    }
   ],
   "source": [
    "# Your code here\n",
    "a=input(\"enter a string: \")\n",
    "print(a)\n",
    "def your_function_12():\n",
    "    length=len(a)\n",
    "    print(\"len of the string: \",length)\n",
    "your_function_12()    "
   ]
  },
  {
   "cell_type": "markdown",
   "id": "9a8e3d28",
   "metadata": {},
   "source": [
    "### Question 13\n",
    "Write a function to count words in a sentence."
   ]
  },
  {
   "cell_type": "code",
   "execution_count": 7,
   "id": "e6f996ef",
   "metadata": {},
   "outputs": [
    {
     "name": "stdout",
     "output_type": "stream",
     "text": [
      "hello welcome to python world\n",
      "5\n"
     ]
    }
   ],
   "source": [
    "# Your code here\n",
    "a=input(\"enter a sentence\")\n",
    "print(a)\n",
    "def your_function_13():\n",
    "    words=a.split()\n",
    "    print(len(words))\n",
    "your_function_13()   \n",
    "\n"
   ]
  },
  {
   "cell_type": "markdown",
   "id": "430c2e4a",
   "metadata": {},
   "source": [
    "### Question 14\n",
    "Write a function to convert Celsius to Fahrenheit."
   ]
  },
  {
   "cell_type": "code",
   "execution_count": 11,
   "id": "b710b0bd",
   "metadata": {},
   "outputs": [
    {
     "name": "stdout",
     "output_type": "stream",
     "text": [
      "celsius to fahrenheit 113.0\n"
     ]
    }
   ],
   "source": [
    "# Your code here\n",
    "a=float(input(\"enter the celsius: \"))\n",
    "def your_function_14():\n",
    "    fahrenheit=(a*9/5)+32\n",
    "    print(\"celsius to fahrenheit\",fahrenheit)\n",
    "your_function_14()    \n"
   ]
  },
  {
   "cell_type": "markdown",
   "id": "acefe5e3",
   "metadata": {},
   "source": [
    "### Question 15\n",
    "Write a function to check if a number is palindrome."
   ]
  },
  {
   "cell_type": "code",
   "execution_count": 16,
   "id": "b700abae",
   "metadata": {},
   "outputs": [
    {
     "name": "stdout",
     "output_type": "stream",
     "text": [
      "hello is not palindrome\n"
     ]
    },
    {
     "data": {
      "text/plain": [
       "False"
      ]
     },
     "execution_count": 16,
     "metadata": {},
     "output_type": "execute_result"
    }
   ],
   "source": [
    "# Your code here\n",
    "a=input(\"enter a sentence: \")\n",
    "def your_function_15():\n",
    "    return a==a[::-1]\n",
    "if your_function_15():\n",
    "   print(a,\"is palindrome\")\n",
    "else:\n",
    "     print(a,\"is not palindrome\") \n",
    "your_function_15()     "
   ]
  },
  {
   "cell_type": "markdown",
   "id": "b63452cb",
   "metadata": {},
   "source": [
    "### Question 16\n",
    "Write a function to return all even numbers in a list."
   ]
  },
  {
   "cell_type": "code",
   "execution_count": 23,
   "id": "9d1fc968",
   "metadata": {},
   "outputs": [
    {
     "name": "stdout",
     "output_type": "stream",
     "text": [
      "Even numbers: [2, 4, 6, 8, 10]\n"
     ]
    }
   ],
   "source": [
    "# Your code here\n",
    "a=[1,2,3,4,5,6,7,8,9,10]\n",
    "def your_function_16(a):\n",
    "    print(\"Even numbers:\", [i for i in a if i % 2 == 0])\n",
    "your_function_16(a)        \n",
    "\n"
   ]
  },
  {
   "cell_type": "markdown",
   "id": "aca524d9",
   "metadata": {},
   "source": [
    "### Question 17\n",
    "Write a function to return the nth Fibonacci number."
   ]
  },
  {
   "cell_type": "code",
   "execution_count": 5,
   "id": "97dc4e87",
   "metadata": {},
   "outputs": [
    {
     "name": "stdout",
     "output_type": "stream",
     "text": [
      "Fibonacci number is: 34\n"
     ]
    }
   ],
   "source": [
    "# Your code here\n",
    "def your_function_17(n):\n",
    "    a = 2\n",
    "    b = 3\n",
    "    for i in range(n):\n",
    "        a, b = b, a + b\n",
    "    return a\n",
    "num = int(input(\"Enter n: \"))\n",
    "print(\"Fibonacci number is:\", your_function_17(num))"
   ]
  },
  {
   "cell_type": "markdown",
   "id": "29c847dc",
   "metadata": {},
   "source": [
    "### Question 18\n",
    "Write a function to calculate the average of a list."
   ]
  },
  {
   "cell_type": "code",
   "execution_count": 4,
   "id": "9adc9fd2",
   "metadata": {},
   "outputs": [
    {
     "name": "stdout",
     "output_type": "stream",
     "text": [
      "Average of the list: 3.0\n"
     ]
    }
   ],
   "source": [
    "# Your code here\n",
    "a = [1, 2, 3, 4, 5]\n",
    "def your_function_18(a):\n",
    "    sum=0\n",
    "    n=len(a)\n",
    "    for i in a:\n",
    "        sum=sum+i\n",
    "    avg=sum/n\n",
    "    print(\"Average of the list:\", avg)\n",
    "\n",
    "your_function_18(a)        "
   ]
  },
  {
   "cell_type": "markdown",
   "id": "420240fb",
   "metadata": {},
   "source": [
    "### Question 19\n",
    "Write a function that returns a dictionary of character counts."
   ]
  },
  {
   "cell_type": "code",
   "execution_count": null,
   "id": "95cafc54",
   "metadata": {},
   "outputs": [],
   "source": [
    "# Your code here\n",
    "def your_function_19():\n",
    "    pass"
   ]
  },
  {
   "cell_type": "markdown",
   "id": "17629a07",
   "metadata": {},
   "source": [
    "### Question 20\n",
    "Write a function that returns True if all list elements are unique."
   ]
  },
  {
   "cell_type": "code",
   "execution_count": 10,
   "id": "fe4f8820",
   "metadata": {},
   "outputs": [
    {
     "name": "stdout",
     "output_type": "stream",
     "text": [
      "All list elements are unique\n"
     ]
    },
    {
     "data": {
      "text/plain": [
       "True"
      ]
     },
     "execution_count": 10,
     "metadata": {},
     "output_type": "execute_result"
    }
   ],
   "source": [
    "# Your code here\n",
    "a=[1,2,3,4,5]\n",
    "def your_function_20():\n",
    "    if len(a)==len(set(a)):\n",
    "        print(\"All list elements are unique\")\n",
    "        return True\n",
    "    else:\n",
    "        print(\"List contains duplicates\")\n",
    "        return False\n",
    "\n",
    "your_function_20()\n",
    "\n",
    "\n"
   ]
  },
  {
   "cell_type": "markdown",
   "id": "91dc87b9",
   "metadata": {},
   "source": [
    "### Question 21\n",
    "Write a function that returns dot product of two list of numbers"
   ]
  },
  {
   "cell_type": "code",
   "execution_count": 14,
   "id": "87c3fa4b",
   "metadata": {},
   "outputs": [
    {
     "name": "stdout",
     "output_type": "stream",
     "text": [
      "dot product:  56\n"
     ]
    }
   ],
   "source": [
    "# Your code here\n",
    "a=[1,3,7]\n",
    "b=[2,4,6]\n",
    "def your_function_21(l1,l2):\n",
    "    result=0\n",
    "    for i in range(len(l1)):\n",
    "        result += l1[i]*l2[i]\n",
    "    return result\n",
    "print(\"dot product: \",your_function_21(a,b))"
   ]
  },
  {
   "cell_type": "markdown",
   "id": "5eeb0527",
   "metadata": {},
   "source": [
    "### Question 22\n",
    "Write a function that returns the projection of vector a onto vector b. Both a and b are given as list of numbers"
   ]
  },
  {
   "cell_type": "code",
   "execution_count": null,
   "id": "d2c2439f",
   "metadata": {},
   "outputs": [],
   "source": [
    "# Your code here\n",
    "def your_function_22():\n",
    "    pass"
   ]
  },
  {
   "cell_type": "markdown",
   "id": "1410b385",
   "metadata": {},
   "source": [
    "### Question 23\n",
    "Write a function to return common elements between two lists."
   ]
  },
  {
   "cell_type": "code",
   "execution_count": 15,
   "id": "2cee584c",
   "metadata": {},
   "outputs": [
    {
     "name": "stdout",
     "output_type": "stream",
     "text": [
      "[2, 5]\n"
     ]
    }
   ],
   "source": [
    "# Your code here\n",
    "def common_elements(list1, list2):\n",
    "    return list(set(list1) & set(list2))\n",
    "a = [1,3,5,2]\n",
    "b = [5,2,6,7,8]\n",
    "print(common_elements(a,b))"
   ]
  },
  {
   "cell_type": "markdown",
   "id": "23ab5210",
   "metadata": {},
   "source": [
    "### Question 24\n",
    "Create a class Vector that supports addition, dot product, and magnitude."
   ]
  },
  {
   "cell_type": "code",
   "execution_count": null,
   "id": "f6b18fd7",
   "metadata": {},
   "outputs": [],
   "source": [
    "# Your code here\n",
    "def your_function_24():\n",
    "    pass"
   ]
  },
  {
   "cell_type": "markdown",
   "id": "a0621aba",
   "metadata": {},
   "source": [
    "### Question 25\n",
    "Implement a function to return all outliers in a list based on the IQR method."
   ]
  },
  {
   "cell_type": "code",
   "execution_count": null,
   "id": "460a8994",
   "metadata": {},
   "outputs": [],
   "source": [
    "# Your code here\n",
    "def your_function_25():\n",
    "    pass"
   ]
  },
  {
   "cell_type": "markdown",
   "id": "f0be510e",
   "metadata": {},
   "source": [
    "### Question 26\n",
    "Function with default arguments:\n",
    "Create a function to compute variance with an option to use sample or population formula"
   ]
  },
  {
   "cell_type": "code",
   "execution_count": null,
   "id": "941d732d",
   "metadata": {},
   "outputs": [],
   "source": [
    "# Your code here\n",
    "def your_function_26():\n",
    "    pass"
   ]
  },
  {
   "cell_type": "markdown",
   "id": "c39be0f1",
   "metadata": {},
   "source": [
    "### Question 27\n",
    "Create a list of squares of even numbers between 1 and 20 using list comprehension."
   ]
  },
  {
   "cell_type": "code",
   "execution_count": null,
   "id": "9e4ba74a",
   "metadata": {},
   "outputs": [],
   "source": [
    "# Your code here\n",
    "def your_function_27():\n",
    "    pass"
   ]
  },
  {
   "cell_type": "markdown",
   "id": "b43c266d",
   "metadata": {},
   "source": [
    "### Question 28\n",
    "Write a function that returns the L1 and L2 norms of a vector given as list"
   ]
  },
  {
   "cell_type": "code",
   "execution_count": null,
   "id": "4f5dc876",
   "metadata": {},
   "outputs": [],
   "source": [
    "# Your code here\n",
    "def your_function_28():\n",
    "    pass"
   ]
  },
  {
   "cell_type": "markdown",
   "id": "2007915f",
   "metadata": {},
   "source": [
    "### Question 29\n",
    "Write a function that computes the 95% confidence interval for the mean of a list of numbers assuming normal distribution."
   ]
  },
  {
   "cell_type": "code",
   "execution_count": null,
   "id": "8634dc63",
   "metadata": {},
   "outputs": [],
   "source": [
    "# Your code here\n",
    "def your_function_29():\n",
    "    pass"
   ]
  },
  {
   "cell_type": "markdown",
   "id": "08df3afb",
   "metadata": {},
   "source": [
    "### Question 30\n",
    "Given a list of categorical values, create a frequency distribution dictionary."
   ]
  },
  {
   "cell_type": "code",
   "execution_count": null,
   "id": "c9b88531",
   "metadata": {},
   "outputs": [],
   "source": [
    "# Your code here\n",
    "def your_function_30():\n",
    "    pass"
   ]
  }
 ],
 "metadata": {
  "kernelspec": {
   "display_name": "Python 3",
   "language": "python",
   "name": "python3"
  },
  "language_info": {
   "codemirror_mode": {
    "name": "ipython",
    "version": 3
   },
   "file_extension": ".py",
   "mimetype": "text/x-python",
   "name": "python",
   "nbconvert_exporter": "python",
   "pygments_lexer": "ipython3",
   "version": "3.11.9"
  }
 },
 "nbformat": 4,
 "nbformat_minor": 5
}
